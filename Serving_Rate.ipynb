{
 "cells": [
  {
   "cell_type": "code",
   "execution_count": 9,
   "metadata": {},
   "outputs": [],
   "source": [
    "import pandas as pd\n",
    "import geopandas as gpd\n",
    "from datetime import datetime"
   ]
  },
  {
   "cell_type": "markdown",
   "metadata": {},
   "source": [
    "## Task1"
   ]
  },
  {
   "cell_type": "code",
   "execution_count": 27,
   "metadata": {},
   "outputs": [
    {
     "data": {
      "text/plain": [
       "dtype('<M8[ns]')"
      ]
     },
     "execution_count": 27,
     "metadata": {},
     "output_type": "execute_result"
    }
   ],
   "source": [
    "vehicle['date'].dtype"
   ]
  },
  {
   "cell_type": "code",
   "execution_count": 29,
   "metadata": {},
   "outputs": [],
   "source": [
    "#vehicle['date']= [pd.Timestamp(i,unit='s') for i in vehicle['Timestamp']]"
   ]
  },
  {
   "cell_type": "code",
   "execution_count": 114,
   "metadata": {},
   "outputs": [
    {
     "data": {
      "text/html": [
       "<div>\n",
       "<style scoped>\n",
       "    .dataframe tbody tr th:only-of-type {\n",
       "        vertical-align: middle;\n",
       "    }\n",
       "\n",
       "    .dataframe tbody tr th {\n",
       "        vertical-align: top;\n",
       "    }\n",
       "\n",
       "    .dataframe thead th {\n",
       "        text-align: right;\n",
       "    }\n",
       "</style>\n",
       "<table border=\"1\" class=\"dataframe\">\n",
       "  <thead>\n",
       "    <tr style=\"text-align: right;\">\n",
       "      <th></th>\n",
       "      <th>Timestamp</th>\n",
       "      <th>Requested_Pickup</th>\n",
       "      <th>Requested_Dropoff</th>\n",
       "      <th>Actual_Pickup</th>\n",
       "      <th>Actual_Dropoff</th>\n",
       "    </tr>\n",
       "  </thead>\n",
       "  <tbody>\n",
       "    <tr>\n",
       "      <th>0</th>\n",
       "      <td>1380949200</td>\n",
       "      <td>1149</td>\n",
       "      <td>725</td>\n",
       "      <td>218</td>\n",
       "      <td>3601</td>\n",
       "    </tr>\n",
       "    <tr>\n",
       "      <th>1</th>\n",
       "      <td>1380949200</td>\n",
       "      <td>1225</td>\n",
       "      <td>1714</td>\n",
       "      <td>2003</td>\n",
       "      <td>3601</td>\n",
       "    </tr>\n",
       "    <tr>\n",
       "      <th>2</th>\n",
       "      <td>1380949200</td>\n",
       "      <td>1237</td>\n",
       "      <td>3143</td>\n",
       "      <td>1314</td>\n",
       "      <td>2218</td>\n",
       "    </tr>\n",
       "    <tr>\n",
       "      <th>3</th>\n",
       "      <td>1380949200</td>\n",
       "      <td>1323</td>\n",
       "      <td>3566</td>\n",
       "      <td>1330</td>\n",
       "      <td>2573</td>\n",
       "    </tr>\n",
       "    <tr>\n",
       "      <th>4</th>\n",
       "      <td>1380949200</td>\n",
       "      <td>1328</td>\n",
       "      <td>2466</td>\n",
       "      <td>1323</td>\n",
       "      <td>2473</td>\n",
       "    </tr>\n",
       "  </tbody>\n",
       "</table>\n",
       "</div>"
      ],
      "text/plain": [
       "    Timestamp  Requested_Pickup  Requested_Dropoff  Actual_Pickup  \\\n",
       "0  1380949200              1149                725            218   \n",
       "1  1380949200              1225               1714           2003   \n",
       "2  1380949200              1237               3143           1314   \n",
       "3  1380949200              1323               3566           1330   \n",
       "4  1380949200              1328               2466           1323   \n",
       "\n",
       "   Actual_Dropoff  \n",
       "0            3601  \n",
       "1            3601  \n",
       "2            2218  \n",
       "3            2573  \n",
       "4            2473  "
      ]
     },
     "execution_count": 114,
     "metadata": {},
     "output_type": "execute_result"
    }
   ],
   "source": [
    "requests = pd.read_csv(\"requests.csv\")\n",
    "requests.head()"
   ]
  },
  {
   "cell_type": "code",
   "execution_count": 115,
   "metadata": {},
   "outputs": [],
   "source": [
    "requests['Hour'] = requests['Timestamp'].apply(lambda x: pd.Timestamp(x,unit='s',tz='America/New_York').hour)"
   ]
  },
  {
   "cell_type": "code",
   "execution_count": 116,
   "metadata": {},
   "outputs": [
    {
     "data": {
      "text/html": [
       "<div>\n",
       "<style scoped>\n",
       "    .dataframe tbody tr th:only-of-type {\n",
       "        vertical-align: middle;\n",
       "    }\n",
       "\n",
       "    .dataframe tbody tr th {\n",
       "        vertical-align: top;\n",
       "    }\n",
       "\n",
       "    .dataframe thead th {\n",
       "        text-align: right;\n",
       "    }\n",
       "</style>\n",
       "<table border=\"1\" class=\"dataframe\">\n",
       "  <thead>\n",
       "    <tr style=\"text-align: right;\">\n",
       "      <th></th>\n",
       "      <th>Timestamp</th>\n",
       "      <th>Requested_Pickup</th>\n",
       "      <th>Requested_Dropoff</th>\n",
       "      <th>Actual_Pickup</th>\n",
       "      <th>Actual_Dropoff</th>\n",
       "      <th>Hour</th>\n",
       "    </tr>\n",
       "  </thead>\n",
       "  <tbody>\n",
       "    <tr>\n",
       "      <th>0</th>\n",
       "      <td>1380949200</td>\n",
       "      <td>1149</td>\n",
       "      <td>725</td>\n",
       "      <td>218</td>\n",
       "      <td>3601</td>\n",
       "      <td>1</td>\n",
       "    </tr>\n",
       "    <tr>\n",
       "      <th>1</th>\n",
       "      <td>1380949200</td>\n",
       "      <td>1225</td>\n",
       "      <td>1714</td>\n",
       "      <td>2003</td>\n",
       "      <td>3601</td>\n",
       "      <td>1</td>\n",
       "    </tr>\n",
       "    <tr>\n",
       "      <th>2</th>\n",
       "      <td>1380949200</td>\n",
       "      <td>1237</td>\n",
       "      <td>3143</td>\n",
       "      <td>1314</td>\n",
       "      <td>2218</td>\n",
       "      <td>1</td>\n",
       "    </tr>\n",
       "    <tr>\n",
       "      <th>3</th>\n",
       "      <td>1380949200</td>\n",
       "      <td>1323</td>\n",
       "      <td>3566</td>\n",
       "      <td>1330</td>\n",
       "      <td>2573</td>\n",
       "      <td>1</td>\n",
       "    </tr>\n",
       "    <tr>\n",
       "      <th>4</th>\n",
       "      <td>1380949200</td>\n",
       "      <td>1328</td>\n",
       "      <td>2466</td>\n",
       "      <td>1323</td>\n",
       "      <td>2473</td>\n",
       "      <td>1</td>\n",
       "    </tr>\n",
       "  </tbody>\n",
       "</table>\n",
       "</div>"
      ],
      "text/plain": [
       "    Timestamp  Requested_Pickup  Requested_Dropoff  Actual_Pickup  \\\n",
       "0  1380949200              1149                725            218   \n",
       "1  1380949200              1225               1714           2003   \n",
       "2  1380949200              1237               3143           1314   \n",
       "3  1380949200              1323               3566           1330   \n",
       "4  1380949200              1328               2466           1323   \n",
       "\n",
       "   Actual_Dropoff  Hour  \n",
       "0            3601     1  \n",
       "1            3601     1  \n",
       "2            2218     1  \n",
       "3            2573     1  \n",
       "4            2473     1  "
      ]
     },
     "execution_count": 116,
     "metadata": {},
     "output_type": "execute_result"
    }
   ],
   "source": [
    "requests.head()"
   ]
  },
  {
   "cell_type": "code",
   "execution_count": 117,
   "metadata": {},
   "outputs": [],
   "source": [
    "requests['Serving'] = requests['Actual_Dropoff'].apply(lambda x: 0 if x ==-1 else 1 )"
   ]
  },
  {
   "cell_type": "code",
   "execution_count": 118,
   "metadata": {},
   "outputs": [],
   "source": [
    "unserving = requests[requests['Serving']==0]\n",
    "serving = requests[requests['Serving']==1]"
   ]
  },
  {
   "cell_type": "code",
   "execution_count": 119,
   "metadata": {},
   "outputs": [],
   "source": [
    "#requests['Hour']=requests['Hour'].astype('category')\n",
    "#requests['Serving']=requests['Serving'].astype('category')"
   ]
  },
  {
   "cell_type": "code",
   "execution_count": 120,
   "metadata": {},
   "outputs": [],
   "source": [
    "servinghours = serving.groupby('Hour').count()[['Serving']].reset_index()"
   ]
  },
  {
   "cell_type": "code",
   "execution_count": 121,
   "metadata": {
    "scrolled": true
   },
   "outputs": [],
   "source": [
    "hours = requests.groupby('Hour').count()[['Timestamp']].reset_index()"
   ]
  },
  {
   "cell_type": "code",
   "execution_count": 125,
   "metadata": {},
   "outputs": [
    {
     "data": {
      "text/html": [
       "<div>\n",
       "<style scoped>\n",
       "    .dataframe tbody tr th:only-of-type {\n",
       "        vertical-align: middle;\n",
       "    }\n",
       "\n",
       "    .dataframe tbody tr th {\n",
       "        vertical-align: top;\n",
       "    }\n",
       "\n",
       "    .dataframe thead th {\n",
       "        text-align: right;\n",
       "    }\n",
       "</style>\n",
       "<table border=\"1\" class=\"dataframe\">\n",
       "  <thead>\n",
       "    <tr style=\"text-align: right;\">\n",
       "      <th></th>\n",
       "      <th>Hour</th>\n",
       "      <th>Total</th>\n",
       "      <th>Serving</th>\n",
       "      <th>rate</th>\n",
       "    </tr>\n",
       "  </thead>\n",
       "  <tbody>\n",
       "    <tr>\n",
       "      <th>0</th>\n",
       "      <td>0</td>\n",
       "      <td>19313</td>\n",
       "      <td>6748</td>\n",
       "      <td>0.349402</td>\n",
       "    </tr>\n",
       "    <tr>\n",
       "      <th>1</th>\n",
       "      <td>1</td>\n",
       "      <td>10052</td>\n",
       "      <td>7297</td>\n",
       "      <td>0.725925</td>\n",
       "    </tr>\n",
       "    <tr>\n",
       "      <th>2</th>\n",
       "      <td>2</td>\n",
       "      <td>6070</td>\n",
       "      <td>5464</td>\n",
       "      <td>0.900165</td>\n",
       "    </tr>\n",
       "    <tr>\n",
       "      <th>3</th>\n",
       "      <td>3</td>\n",
       "      <td>3725</td>\n",
       "      <td>3443</td>\n",
       "      <td>0.924295</td>\n",
       "    </tr>\n",
       "    <tr>\n",
       "      <th>4</th>\n",
       "      <td>4</td>\n",
       "      <td>2567</td>\n",
       "      <td>2310</td>\n",
       "      <td>0.899883</td>\n",
       "    </tr>\n",
       "  </tbody>\n",
       "</table>\n",
       "</div>"
      ],
      "text/plain": [
       "   Hour  Total  Serving      rate\n",
       "0     0  19313     6748  0.349402\n",
       "1     1  10052     7297  0.725925\n",
       "2     2   6070     5464  0.900165\n",
       "3     3   3725     3443  0.924295\n",
       "4     4   2567     2310  0.899883"
      ]
     },
     "execution_count": 125,
     "metadata": {},
     "output_type": "execute_result"
    }
   ],
   "source": [
    "rate = hours.merge(servinghours, on='Hour')\n",
    "rate.rename(columns={'Timestamp':'Total'}, inplace=True)\n",
    "rate['rate']=rate['Serving']/rate['Total']\n",
    "rate.head()"
   ]
  },
  {
   "cell_type": "code",
   "execution_count": 126,
   "metadata": {},
   "outputs": [],
   "source": [
    "rate.to_csv('servingrate.csv')"
   ]
  },
  {
   "cell_type": "code",
   "execution_count": null,
   "metadata": {},
   "outputs": [],
   "source": []
  },
  {
   "cell_type": "markdown",
   "metadata": {},
   "source": [
    "## Task 2"
   ]
  },
  {
   "cell_type": "code",
   "execution_count": 129,
   "metadata": {},
   "outputs": [
    {
     "data": {
      "text/html": [
       "<div>\n",
       "<style scoped>\n",
       "    .dataframe tbody tr th:only-of-type {\n",
       "        vertical-align: middle;\n",
       "    }\n",
       "\n",
       "    .dataframe tbody tr th {\n",
       "        vertical-align: top;\n",
       "    }\n",
       "\n",
       "    .dataframe thead th {\n",
       "        text-align: right;\n",
       "    }\n",
       "</style>\n",
       "<table border=\"1\" class=\"dataframe\">\n",
       "  <thead>\n",
       "    <tr style=\"text-align: right;\">\n",
       "      <th></th>\n",
       "      <th>id</th>\n",
       "      <th>w</th>\n",
       "      <th>geometry</th>\n",
       "    </tr>\n",
       "  </thead>\n",
       "  <tbody>\n",
       "    <tr>\n",
       "      <th>0</th>\n",
       "      <td>0.0</td>\n",
       "      <td>NaN</td>\n",
       "      <td>POINT (-73.9975944 40.7140611)</td>\n",
       "    </tr>\n",
       "    <tr>\n",
       "      <th>1</th>\n",
       "      <td>1.0</td>\n",
       "      <td>NaN</td>\n",
       "      <td>POINT (-73.9980743 40.7137811)</td>\n",
       "    </tr>\n",
       "    <tr>\n",
       "      <th>2</th>\n",
       "      <td>2.0</td>\n",
       "      <td>NaN</td>\n",
       "      <td>POINT (-73.9615093 40.7602403)</td>\n",
       "    </tr>\n",
       "    <tr>\n",
       "      <th>3</th>\n",
       "      <td>3.0</td>\n",
       "      <td>NaN</td>\n",
       "      <td>POINT (-73.9692158 40.763488)</td>\n",
       "    </tr>\n",
       "    <tr>\n",
       "      <th>4</th>\n",
       "      <td>4.0</td>\n",
       "      <td>NaN</td>\n",
       "      <td>POINT (-73.9694382 40.7635824)</td>\n",
       "    </tr>\n",
       "  </tbody>\n",
       "</table>\n",
       "</div>"
      ],
      "text/plain": [
       "    id   w                        geometry\n",
       "0  0.0 NaN  POINT (-73.9975944 40.7140611)\n",
       "1  1.0 NaN  POINT (-73.9980743 40.7137811)\n",
       "2  2.0 NaN  POINT (-73.9615093 40.7602403)\n",
       "3  3.0 NaN   POINT (-73.9692158 40.763488)\n",
       "4  4.0 NaN  POINT (-73.9694382 40.7635824)"
      ]
     },
     "execution_count": 129,
     "metadata": {},
     "output_type": "execute_result"
    }
   ],
   "source": [
    "geomanhattan = gpd.read_file('manhattan.geojson')\n",
    "geomanhattan.head()"
   ]
  },
  {
   "cell_type": "code",
   "execution_count": 136,
   "metadata": {},
   "outputs": [],
   "source": [
    "georequests = unserving.merge(geomanhattan, left_on='Requested_Pickup',right_on='id')"
   ]
  },
  {
   "cell_type": "code",
   "execution_count": 137,
   "metadata": {},
   "outputs": [],
   "source": [
    "georequests.rename(columns={'geometry':'Geo_Pickup'}, inplace=True)"
   ]
  },
  {
   "cell_type": "code",
   "execution_count": 139,
   "metadata": {},
   "outputs": [],
   "source": [
    "georequests = georequests.merge(geomanhattan, left_on='Requested_Dropoff',right_on='id')"
   ]
  },
  {
   "cell_type": "code",
   "execution_count": 141,
   "metadata": {},
   "outputs": [],
   "source": [
    "georequests.rename(columns={'geometry':'Geo_Dropoff'}, inplace=True)"
   ]
  },
  {
   "cell_type": "code",
   "execution_count": 148,
   "metadata": {},
   "outputs": [
    {
     "data": {
      "text/html": [
       "<div>\n",
       "<style scoped>\n",
       "    .dataframe tbody tr th:only-of-type {\n",
       "        vertical-align: middle;\n",
       "    }\n",
       "\n",
       "    .dataframe tbody tr th {\n",
       "        vertical-align: top;\n",
       "    }\n",
       "\n",
       "    .dataframe thead th {\n",
       "        text-align: right;\n",
       "    }\n",
       "</style>\n",
       "<table border=\"1\" class=\"dataframe\">\n",
       "  <thead>\n",
       "    <tr style=\"text-align: right;\">\n",
       "      <th></th>\n",
       "      <th>Timestamp</th>\n",
       "      <th>Requested_Pickup</th>\n",
       "      <th>Requested_Dropoff</th>\n",
       "      <th>Actual_Pickup</th>\n",
       "      <th>Actual_Dropoff</th>\n",
       "      <th>Hour</th>\n",
       "      <th>Serving</th>\n",
       "      <th>id_x</th>\n",
       "      <th>Geo_Pickup</th>\n",
       "      <th>id_y</th>\n",
       "      <th>Geo_Dropoff</th>\n",
       "    </tr>\n",
       "  </thead>\n",
       "  <tbody>\n",
       "    <tr>\n",
       "      <th>0</th>\n",
       "      <td>1380949380</td>\n",
       "      <td>1225</td>\n",
       "      <td>1279</td>\n",
       "      <td>-1</td>\n",
       "      <td>-1</td>\n",
       "      <td>1</td>\n",
       "      <td>0</td>\n",
       "      <td>1225.0</td>\n",
       "      <td>POINT (-73.972567 40.7450709)</td>\n",
       "      <td>1279.0</td>\n",
       "      <td>POINT (-73.9498734 40.7761941)</td>\n",
       "    </tr>\n",
       "    <tr>\n",
       "      <th>1</th>\n",
       "      <td>1381025613</td>\n",
       "      <td>1225</td>\n",
       "      <td>1279</td>\n",
       "      <td>-1</td>\n",
       "      <td>-1</td>\n",
       "      <td>22</td>\n",
       "      <td>0</td>\n",
       "      <td>1225.0</td>\n",
       "      <td>POINT (-73.972567 40.7450709)</td>\n",
       "      <td>1279.0</td>\n",
       "      <td>POINT (-73.9498734 40.7761941)</td>\n",
       "    </tr>\n",
       "    <tr>\n",
       "      <th>2</th>\n",
       "      <td>1381018306</td>\n",
       "      <td>1260</td>\n",
       "      <td>1279</td>\n",
       "      <td>-1</td>\n",
       "      <td>-1</td>\n",
       "      <td>20</td>\n",
       "      <td>0</td>\n",
       "      <td>1260.0</td>\n",
       "      <td>POINT (-73.9911207 40.7503112)</td>\n",
       "      <td>1279.0</td>\n",
       "      <td>POINT (-73.9498734 40.7761941)</td>\n",
       "    </tr>\n",
       "    <tr>\n",
       "      <th>3</th>\n",
       "      <td>1381021560</td>\n",
       "      <td>3167</td>\n",
       "      <td>1279</td>\n",
       "      <td>-1</td>\n",
       "      <td>-1</td>\n",
       "      <td>21</td>\n",
       "      <td>0</td>\n",
       "      <td>3167.0</td>\n",
       "      <td>POINT (-73.9882441 40.7491343)</td>\n",
       "      <td>1279.0</td>\n",
       "      <td>POINT (-73.9498734 40.7761941)</td>\n",
       "    </tr>\n",
       "    <tr>\n",
       "      <th>4</th>\n",
       "      <td>1381030809</td>\n",
       "      <td>229</td>\n",
       "      <td>1279</td>\n",
       "      <td>-1</td>\n",
       "      <td>-1</td>\n",
       "      <td>23</td>\n",
       "      <td>0</td>\n",
       "      <td>229.0</td>\n",
       "      <td>POINT (-73.9939536 40.7515176)</td>\n",
       "      <td>1279.0</td>\n",
       "      <td>POINT (-73.9498734 40.7761941)</td>\n",
       "    </tr>\n",
       "  </tbody>\n",
       "</table>\n",
       "</div>"
      ],
      "text/plain": [
       "    Timestamp  Requested_Pickup  Requested_Dropoff  Actual_Pickup  \\\n",
       "0  1380949380              1225               1279             -1   \n",
       "1  1381025613              1225               1279             -1   \n",
       "2  1381018306              1260               1279             -1   \n",
       "3  1381021560              3167               1279             -1   \n",
       "4  1381030809               229               1279             -1   \n",
       "\n",
       "   Actual_Dropoff  Hour  Serving    id_x                      Geo_Pickup  \\\n",
       "0              -1     1        0  1225.0   POINT (-73.972567 40.7450709)   \n",
       "1              -1    22        0  1225.0   POINT (-73.972567 40.7450709)   \n",
       "2              -1    20        0  1260.0  POINT (-73.9911207 40.7503112)   \n",
       "3              -1    21        0  3167.0  POINT (-73.9882441 40.7491343)   \n",
       "4              -1    23        0   229.0  POINT (-73.9939536 40.7515176)   \n",
       "\n",
       "     id_y                     Geo_Dropoff  \n",
       "0  1279.0  POINT (-73.9498734 40.7761941)  \n",
       "1  1279.0  POINT (-73.9498734 40.7761941)  \n",
       "2  1279.0  POINT (-73.9498734 40.7761941)  \n",
       "3  1279.0  POINT (-73.9498734 40.7761941)  \n",
       "4  1279.0  POINT (-73.9498734 40.7761941)  "
      ]
     },
     "execution_count": 148,
     "metadata": {},
     "output_type": "execute_result"
    }
   ],
   "source": [
    "georequests.drop(['w_x','w_y'],axis=1,inplace=True)\n",
    "georequests.head()"
   ]
  },
  {
   "cell_type": "code",
   "execution_count": 149,
   "metadata": {},
   "outputs": [],
   "source": [
    "georequests.to_csv('georequests.csv')"
   ]
  },
  {
   "cell_type": "code",
   "execution_count": null,
   "metadata": {},
   "outputs": [],
   "source": []
  }
 ],
 "metadata": {
  "kernelspec": {
   "display_name": "Python 3",
   "language": "python",
   "name": "python3"
  },
  "language_info": {
   "codemirror_mode": {
    "name": "ipython",
    "version": 3
   },
   "file_extension": ".py",
   "mimetype": "text/x-python",
   "name": "python",
   "nbconvert_exporter": "python",
   "pygments_lexer": "ipython3",
   "version": "3.6.8"
  }
 },
 "nbformat": 4,
 "nbformat_minor": 2
}
